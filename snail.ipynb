{
 "cells": [
  {
   "cell_type": "markdown",
   "metadata": {
    "collapsed": true,
    "pycharm": {
     "name": "#%% md\n"
    }
   },
   "source": [
    "# Codewars SNAIL Question"
   ],
   "outputs": []
  },
  {
   "cell_type": "markdown",
   "source": [
    "## Solution"
   ],
   "metadata": {
    "collapsed": false,
    "pycharm": {
     "name": "#%% md\n"
    }
   }
  },
  {
   "cell_type": "code",
   "execution_count": 128,
   "outputs": [],
   "source": [
    "import numpy as np\n",
    "def snail(arr):\n",
    "    target = []\n",
    "    while arr:\n",
    "        try:\n",
    "            target.extend(arr.pop(0))\n",
    "            target.extend([items.pop(-1) for items in arr])\n",
    "            target.extend(arr.pop(-1)[::-1])\n",
    "            target.extend([items.pop(0) for items in arr[::-1]])\n",
    "        except IndexError:\n",
    "            return target\n"
   ],
   "metadata": {
    "collapsed": false,
    "pycharm": {
     "name": "#%%\n"
    }
   }
  },
  {
   "cell_type": "markdown",
   "source": [
    "## Tests"
   ],
   "metadata": {
    "collapsed": false
   }
  },
  {
   "cell_type": "code",
   "execution_count": 130,
   "outputs": [
    {
     "data": {
      "text/plain": "[1, 2, 3, 4, 5, 6, 7, 8, 9]"
     },
     "execution_count": 130,
     "metadata": {},
     "output_type": "execute_result"
    }
   ],
   "source": [
    "array = [[1,2,3],\n",
    "        [8,9,4],\n",
    "        [7,6,5]]\n",
    "snail(array) # should be [1, 2, 3, 4, 5, 6, 7, 8, 9]"
   ],
   "metadata": {
    "collapsed": false,
    "pycharm": {
     "name": "#%%\n"
    }
   }
  },
  {
   "cell_type": "code",
   "execution_count": 131,
   "outputs": [
    {
     "data": {
      "text/plain": "[1, 2, 3, 6, 9, 8, 7, 4, 5]"
     },
     "execution_count": 131,
     "metadata": {},
     "output_type": "execute_result"
    }
   ],
   "source": [
    "array = [[1,2,3],\n",
    "         [4,5,6],\n",
    "         [7,8,9]]\n",
    "snail(array)\n",
    "# expected = [1,2,3,6,9,8,7,4,5]"
   ],
   "metadata": {
    "collapsed": false,
    "pycharm": {
     "name": "#%%\n"
    }
   }
  },
  {
   "cell_type": "code",
   "execution_count": 114,
   "outputs": [
    {
     "name": "stdout",
     "output_type": "stream",
     "text": [
      "[1, 2, 3]\n",
      "[4, 5]\n",
      "[6, 7]\n",
      "[8]\n"
     ]
    }
   ],
   "source": [
    "print(array.pop(0))\n",
    "print([items.pop(-1) for items in array])\n",
    "s3 = array.pop(-1)[::-1]\n",
    "print(s3)\n",
    "print([items[0] for items in array[::-1]])"
   ],
   "metadata": {
    "collapsed": false,
    "pycharm": {
     "name": "#%%\n"
    }
   }
  },
  {
   "cell_type": "code",
   "execution_count": 66,
   "outputs": [
    {
     "name": "stdout",
     "output_type": "stream",
     "text": [
      "[1 2 3]\n",
      "[4 5]\n",
      "[6 7]\n",
      "[7 8 1]\n"
     ]
    }
   ],
   "source": [
    "array = np.array([[1,2,3],\n",
    "         [8,9,4],\n",
    "         [7,6,5]])\n",
    "\n",
    "print(array[:1, :][0])\n",
    "print(array[1: , -1])\n",
    "print(np.flip(array[-1: , :-1 ][0]))\n",
    "print(np.flip(array[: , 0]))\n",
    "#snail(array) #=> [1,2,3,4,5,6,7,8,9]\n"
   ],
   "metadata": {
    "collapsed": false,
    "pycharm": {
     "name": "#%%\n"
    }
   }
  },
  {
   "cell_type": "code",
   "execution_count": null,
   "outputs": [],
   "source": [],
   "metadata": {
    "collapsed": false,
    "pycharm": {
     "name": "#%%\n"
    }
   }
  }
 ],
 "metadata": {
  "kernelspec": {
   "name": "arma-env",
   "language": "python",
   "display_name": "arma-env"
  },
  "language_info": {
   "codemirror_mode": {
    "name": "ipython",
    "version": 2
   },
   "file_extension": ".py",
   "mimetype": "text/x-python",
   "name": "python",
   "nbconvert_exporter": "python",
   "pygments_lexer": "ipython2",
   "version": "2.7.6"
  }
 },
 "nbformat": 4,
 "nbformat_minor": 0
}